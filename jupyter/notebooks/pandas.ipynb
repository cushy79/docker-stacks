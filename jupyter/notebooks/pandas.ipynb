{
 "cells": [
  {
   "cell_type": "code",
   "execution_count": 1,
   "metadata": {
    "collapsed": true
   },
   "outputs": [],
   "source": [
    "import numpy as np\n",
    "import pandas as pd"
   ]
  },
  {
   "cell_type": "code",
   "execution_count": 2,
   "metadata": {
    "collapsed": false
   },
   "outputs": [
    {
     "data": {
      "text/plain": [
       "0    1\n",
       "1    2\n",
       "2    3\n",
       "dtype: int64"
      ]
     },
     "execution_count": 2,
     "metadata": {},
     "output_type": "execute_result"
    }
   ],
   "source": [
    "pd.Series([1,2,3])"
   ]
  },
  {
   "cell_type": "code",
   "execution_count": 4,
   "metadata": {
    "collapsed": false
   },
   "outputs": [
    {
     "data": {
      "text/plain": [
       "a    1\n",
       "b    2\n",
       "c    3\n",
       "dtype: int64"
      ]
     },
     "execution_count": 4,
     "metadata": {},
     "output_type": "execute_result"
    }
   ],
   "source": [
    "s = pd.Series([1,2,3], index=['a','b','c'])\n",
    "s"
   ]
  },
  {
   "cell_type": "code",
   "execution_count": 5,
   "metadata": {
    "collapsed": false
   },
   "outputs": [
    {
     "data": {
      "text/plain": [
       "3"
      ]
     },
     "execution_count": 5,
     "metadata": {},
     "output_type": "execute_result"
    }
   ],
   "source": [
    "s.max()"
   ]
  },
  {
   "cell_type": "code",
   "execution_count": 6,
   "metadata": {
    "collapsed": false
   },
   "outputs": [
    {
     "data": {
      "text/plain": [
       "a    1\n",
       "b    3\n",
       "c    6\n",
       "dtype: int64"
      ]
     },
     "execution_count": 6,
     "metadata": {},
     "output_type": "execute_result"
    }
   ],
   "source": [
    "s.cumsum()"
   ]
  },
  {
   "cell_type": "code",
   "execution_count": 7,
   "metadata": {
    "collapsed": false
   },
   "outputs": [
    {
     "name": "stderr",
     "output_type": "stream",
     "text": [
      "/opt/conda/lib/python3.5/site-packages/matplotlib/font_manager.py:273: UserWarning: Matplotlib is building the font cache using fc-list. This may take a moment.\n",
      "  warnings.warn('Matplotlib is building the font cache using fc-list. This may take a moment.')\n",
      "/opt/conda/lib/python3.5/site-packages/matplotlib/font_manager.py:273: UserWarning: Matplotlib is building the font cache using fc-list. This may take a moment.\n",
      "  warnings.warn('Matplotlib is building the font cache using fc-list. This may take a moment.')\n"
     ]
    },
    {
     "data": {
      "text/plain": [
       "<matplotlib.axes._subplots.AxesSubplot at 0x7f63e9588128>"
      ]
     },
     "execution_count": 7,
     "metadata": {},
     "output_type": "execute_result"
    },
    {
     "data": {
      "image/png": "[encoded data removed]",
      "text/plain": [
       "<matplotlib.figure.Figure at 0x7f63eb1e3828>"
      ]
     },
     "metadata": {},
     "output_type": "display_data"
    }
   ],
   "source": [
    "%matplotlib inline\n",
    "import matplotlib.pyplot as plt\n",
    "\n",
    "from pylab import *\n",
    "from pandas import *\n",
    "import matplotlib.pyplot as plt\n",
    "import numpy as np\n",
    "ts = Series(randn(1000), index=date_range('1/1/2000', periods=1000))\n",
    "ts = ts.cumsum()\n",
    "ts.plot()"
   ]
  },
  {
   "cell_type": "code",
   "execution_count": 8,
   "metadata": {
    "collapsed": false
   },
   "outputs": [
    {
     "data": {
      "text/plain": [
       "Timestamp('2014-11-09 10:00:00')"
      ]
     },
     "execution_count": 8,
     "metadata": {},
     "output_type": "execute_result"
    }
   ],
   "source": [
    "dt = pd.to_datetime('2014-11-09 10:00')\n",
    "dt"
   ]
  },
  {
   "cell_type": "code",
   "execution_count": 9,
   "metadata": {
    "collapsed": false
   },
   "outputs": [
    {
     "data": {
      "text/plain": [
       "True"
      ]
     },
     "execution_count": 9,
     "metadata": {},
     "output_type": "execute_result"
    }
   ],
   "source": [
    "import datetime\n",
    "isinstance(dt, datetime.datetime)"
   ]
  },
  {
   "cell_type": "markdown",
   "metadata": {},
   "source": [
    "# offsets"
   ]
  },
  {
   "cell_type": "code",
   "execution_count": 12,
   "metadata": {
    "collapsed": false
   },
   "outputs": [
    {
     "data": {
      "text/plain": [
       "Timestamp('2014-11-30 00:00:00')"
      ]
     },
     "execution_count": 12,
     "metadata": {},
     "output_type": "execute_result"
    }
   ],
   "source": [
    "import pandas.tseries.offsets as offsets\n",
    "dt = pd.to_datetime('2014-11-09 10:00')\n",
    "\n",
    "dt + offsets.MonthEnd(normalize=True)"
   ]
  },
  {
   "cell_type": "code",
   "execution_count": 13,
   "metadata": {
    "collapsed": false
   },
   "outputs": [
    {
     "data": {
      "text/plain": [
       "Timestamp('2014-11-30 10:00:00')"
      ]
     },
     "execution_count": 13,
     "metadata": {},
     "output_type": "execute_result"
    }
   ],
   "source": [
    "dt + offsets.MonthEnd()"
   ]
  },
  {
   "cell_type": "code",
   "execution_count": 14,
   "metadata": {
    "collapsed": false
   },
   "outputs": [
    {
     "data": {
      "text/plain": [
       "DatetimeIndex(['2014-11-01 10:00:00', '2014-11-01 13:00:00',\n",
       "               '2014-11-01 16:00:00', '2014-11-01 19:00:00',\n",
       "               '2014-11-01 22:00:00', '2014-11-02 01:00:00',\n",
       "               '2014-11-02 04:00:00', '2014-11-02 07:00:00',\n",
       "               '2014-11-02 10:00:00', '2014-11-02 13:00:00',\n",
       "               '2014-11-02 16:00:00', '2014-11-02 19:00:00',\n",
       "               '2014-11-02 22:00:00', '2014-11-03 01:00:00',\n",
       "               '2014-11-03 04:00:00', '2014-11-03 07:00:00',\n",
       "               '2014-11-03 10:00:00', '2014-11-03 13:00:00',\n",
       "               '2014-11-03 16:00:00', '2014-11-03 19:00:00',\n",
       "               '2014-11-03 22:00:00', '2014-11-04 01:00:00',\n",
       "               '2014-11-04 04:00:00', '2014-11-04 07:00:00',\n",
       "               '2014-11-04 10:00:00', '2014-11-04 13:00:00',\n",
       "               '2014-11-04 16:00:00', '2014-11-04 19:00:00',\n",
       "               '2014-11-04 22:00:00', '2014-11-05 01:00:00',\n",
       "               '2014-11-05 04:00:00', '2014-11-05 07:00:00',\n",
       "               '2014-11-05 10:00:00', '2014-11-05 13:00:00',\n",
       "               '2014-11-05 16:00:00', '2014-11-05 19:00:00',\n",
       "               '2014-11-05 22:00:00', '2014-11-06 01:00:00',\n",
       "               '2014-11-06 04:00:00', '2014-11-06 07:00:00',\n",
       "               '2014-11-06 10:00:00', '2014-11-06 13:00:00',\n",
       "               '2014-11-06 16:00:00', '2014-11-06 19:00:00',\n",
       "               '2014-11-06 22:00:00', '2014-11-07 01:00:00',\n",
       "               '2014-11-07 04:00:00', '2014-11-07 07:00:00',\n",
       "               '2014-11-07 10:00:00', '2014-11-07 13:00:00',\n",
       "               '2014-11-07 16:00:00', '2014-11-07 19:00:00',\n",
       "               '2014-11-07 22:00:00', '2014-11-08 01:00:00',\n",
       "               '2014-11-08 04:00:00', '2014-11-08 07:00:00',\n",
       "               '2014-11-08 10:00:00', '2014-11-08 13:00:00',\n",
       "               '2014-11-08 16:00:00', '2014-11-08 19:00:00',\n",
       "               '2014-11-08 22:00:00', '2014-11-09 01:00:00',\n",
       "               '2014-11-09 04:00:00', '2014-11-09 07:00:00',\n",
       "               '2014-11-09 10:00:00', '2014-11-09 13:00:00',\n",
       "               '2014-11-09 16:00:00', '2014-11-09 19:00:00',\n",
       "               '2014-11-09 22:00:00', '2014-11-10 01:00:00',\n",
       "               '2014-11-10 04:00:00', '2014-11-10 07:00:00'],\n",
       "              dtype='datetime64[ns]', freq='3H')"
      ]
     },
     "execution_count": 14,
     "metadata": {},
     "output_type": "execute_result"
    }
   ],
   "source": [
    "pd.date_range('2014-11-01 10:00', periods=72, freq=offsets.Hour(3))"
   ]
  },
  {
   "cell_type": "code",
   "execution_count": 22,
   "metadata": {
    "collapsed": false
   },
   "outputs": [
    {
     "data": {
      "text/plain": [
       "array([ -1.08408719e-02,   1.08889489e+00,   8.76597024e-01,\n",
       "         2.07154135e+00,  -7.69958222e-01,  -2.42953610e-01,\n",
       "         4.28756060e-01,  -8.06636190e-01,   6.35784746e-01,\n",
       "        -4.87896584e-01,   4.60560133e-01,  -5.30334359e-02,\n",
       "         5.99261915e-01,  -1.83443976e+00,   3.68938216e-02,\n",
       "        -3.35269056e-01,  -5.17236050e-01,   1.10191447e+00,\n",
       "        -1.63048817e-01,  -2.70131076e+00,   1.45274265e+00,\n",
       "        -7.02842727e-01,  -6.48453562e-01,   1.59983295e+00,\n",
       "         2.34765928e-01,  -6.57683821e-01,  -7.17242972e-01,\n",
       "         5.48307989e-01,  -2.43015161e+00,  -5.45221466e-01,\n",
       "        -2.99868851e-01,  -9.53136421e-01,  -5.39370776e-02,\n",
       "         7.54937037e-01,   8.40410507e-01,  -9.85577612e-01,\n",
       "         1.12554023e+00,   8.60875645e-01,   3.94561391e-01,\n",
       "         6.80052641e-01,   1.20096610e+00,   1.48233270e+00,\n",
       "         1.82293398e-01,  -1.38204820e+00,  -1.25955026e+00,\n",
       "        -1.91080704e-01,  -9.82761121e-01,  -1.69932291e+00,\n",
       "         6.18139008e-01,  -1.24409996e+00,  -3.38531991e-01,\n",
       "         5.34523139e-01,  -2.33283008e-01,  -1.29755312e+00,\n",
       "         1.11810259e+00,  -1.17252362e+00,  -2.06976242e-01,\n",
       "        -1.26612130e+00,  -1.36037794e-01,   3.86934339e-01,\n",
       "        -9.05245886e-01,   8.44443816e-01,  -4.74614064e-01,\n",
       "        -2.43368815e-01,   3.34266866e-01,  -2.52126246e-01,\n",
       "        -3.49195793e-02,  -1.21725392e-01,   1.21120441e+00,\n",
       "        -8.31301452e-01,   1.92958021e-01,  -9.29190548e-01,\n",
       "        -6.20219612e-01,   1.62656689e-01,  -1.17034655e+00,\n",
       "         5.40539154e-02,  -1.99059128e+00,   1.31003128e-01,\n",
       "         2.38741598e+00,   1.75826872e+00,   6.34356584e-01,\n",
       "        -1.50166520e+00,  -8.09546664e-01,  -7.94648477e-01,\n",
       "         9.49276759e-01,  -1.28817535e+00,  -4.45537612e-01,\n",
       "         1.22590774e+00,  -3.94774716e-01,  -1.39106460e+00,\n",
       "         1.67481637e+00,  -3.67614495e-01,  -1.34311955e+00,\n",
       "        -2.12822370e-01,   3.49744935e-01,   6.82251933e-01,\n",
       "         8.31437424e-01,  -9.00797433e-01,  -3.61250136e-01,\n",
       "        -7.12317668e-01,  -9.98901068e-01,  -8.02411199e-01,\n",
       "         2.06053111e-01,   1.32033395e-01,   1.02552442e+00,\n",
       "         1.87237400e-01,  -5.69679354e-01,   1.67589747e-01,\n",
       "        -5.39666675e-01,  -5.11653858e-01,   1.08171328e+00,\n",
       "        -1.62043487e-01,   6.20494125e-01,  -1.46729161e+00,\n",
       "         3.83578900e-01,  -8.29663140e-01,   6.91339256e-01,\n",
       "        -1.83993697e-01,   1.16998048e+00,   6.26916287e-02,\n",
       "         4.16059584e-01,  -2.29053651e+00,   7.75869945e-01,\n",
       "        -5.57661769e-01,  -5.28722638e-01,   4.18667590e-02,\n",
       "         2.61866881e-02,   5.35483847e-01,   1.08476905e+00,\n",
       "        -4.43957635e-01,   1.84972061e+00,  -1.59184436e+00,\n",
       "        -1.04268063e+00,   1.88762133e+00,  -1.19107597e+00,\n",
       "        -1.10350487e+00,   9.53404107e-01,  -2.06949177e-01,\n",
       "        -1.11281921e+00,  -5.67499954e-01,   2.75504611e+00,\n",
       "         1.75400749e+00,   3.79465662e-01,   7.36355330e-02,\n",
       "        -1.93354731e+00,   7.26236280e-02,   4.44109112e-01,\n",
       "        -6.23495513e-01,   5.51161026e-01,  -3.68036674e-01,\n",
       "        -1.96523029e+00,  -1.30783296e+00,   5.63951682e-01,\n",
       "        -1.71647091e+00,  -5.89161688e-01,   6.30584183e-01,\n",
       "         1.62869101e-01,   4.55351093e-01,   5.29129041e-01,\n",
       "        -7.33843340e-01,  -2.13533459e+00,  -4.53460839e-01,\n",
       "         5.49037640e-01,   1.07297132e+00,   7.49159283e-01,\n",
       "        -4.33924131e-01,   1.38953120e+00,   5.04320664e-01,\n",
       "        -4.43476296e-01,   1.80426392e+00,   5.38870788e-02,\n",
       "         5.43822832e-01,   2.75857669e+00,  -1.42988558e+00,\n",
       "         3.29559213e-02,  -3.05989822e-01,  -5.81698094e-01,\n",
       "        -1.74829562e+00,  -1.52028452e+00,   7.28989173e-01,\n",
       "         1.00711887e-01,  -8.48466852e-01,  -1.10984954e-01,\n",
       "        -3.94434602e-01,  -2.01951419e-02,   3.67082577e-01,\n",
       "        -3.66176507e-02,   8.33548398e-01,   1.61074093e+00,\n",
       "        -1.05181654e+00,  -1.28584328e-01,  -1.26333961e+00,\n",
       "        -7.14018330e-01,  -1.04391608e+00,  -3.96845446e-01,\n",
       "         2.02768243e+00,   4.27184767e-01,   7.27096266e-01,\n",
       "        -4.29060362e-01,  -2.12846020e-02,   6.36779254e-01,\n",
       "        -4.47545604e-02,  -1.26299790e+00,  -1.84614172e+00,\n",
       "        -1.32876135e+00,   1.55885080e+00,  -1.18446209e+00,\n",
       "         1.75291530e+00,   2.36047215e-01,  -7.12885911e-01,\n",
       "         1.47181362e+00,   1.62277665e-01,  -4.95997858e-01,\n",
       "        -3.76408660e-01,  -7.16378745e-01,  -1.43311188e-01,\n",
       "         1.56388298e+00,   7.74134874e-01,   7.31251331e-01,\n",
       "         5.25803633e-01,   3.42781578e-01,  -7.08251997e-01,\n",
       "         7.17385480e-01,  -4.59410363e-01,  -3.99066848e-01,\n",
       "         3.16892992e+00,   1.74380440e+00,  -1.29825077e+00,\n",
       "        -1.31443068e+00,  -1.45057579e+00,  -1.39627113e+00,\n",
       "         4.85337864e-01,   4.61298837e-01,  -1.01782541e+00,\n",
       "        -1.85631526e+00,   4.23770577e-01,   3.56437606e-01,\n",
       "        -5.17520835e-01,   6.75583278e-01,   1.84102651e-01,\n",
       "        -8.99616740e-01,   7.28694835e-01,   2.39944748e-01,\n",
       "         2.89876549e-01,  -1.03993867e+00,   7.16975225e-01,\n",
       "         5.74109068e-01,   1.28152408e+00,   1.70768940e+00,\n",
       "        -9.69332300e-02,   7.35930312e-02,   3.16083858e-01,\n",
       "         1.09814666e-01,   1.80079935e-01,  -8.24947516e-02,\n",
       "        -9.79612351e-01,   2.32156487e-01,   1.83691178e+00,\n",
       "        -1.37808763e-01,   8.14624494e-01,   3.54893841e-01,\n",
       "        -1.55659994e+00,   4.73755199e-02,  -1.23424437e-01,\n",
       "        -5.36501060e-01,   7.98391539e-01,  -1.04092033e+00,\n",
       "        -9.73353949e-01,   3.29022695e-01,   1.48094061e+00,\n",
       "         9.79844701e-01,   1.58887632e+00,  -1.24338937e+00,\n",
       "        -1.50149585e+00,   1.25047417e+00,  -9.98165322e-02,\n",
       "         2.11543174e-01,  -2.17943812e+00,   1.28862338e+00,\n",
       "        -4.09614534e-01,  -3.11483914e-02,  -2.60478407e+00,\n",
       "        -1.00243669e+00,  -1.24798695e+00,   2.19611249e-01,\n",
       "        -1.48584869e+00,   3.81673037e-01,  -5.55434701e-01,\n",
       "         6.72559550e-01,   1.32337152e-01,  -9.46893559e-01,\n",
       "         9.44074641e-02,   7.39854722e-02,   2.38907319e+00,\n",
       "         1.08755916e+00,  -2.56547635e+00,  -1.35175887e+00,\n",
       "         1.27181123e+00,  -3.39328537e-01,   3.97442660e-01,\n",
       "        -8.99421360e-01,  -3.95582840e-01,  -3.72794134e-01,\n",
       "        -2.01088635e+00,  -1.82396787e+00,  -1.14720285e-01,\n",
       "        -7.87544110e-01,   1.33208012e+00,  -1.18534790e+00,\n",
       "        -1.07561079e+00,  -4.47095430e-01,   1.48794331e-01,\n",
       "         5.15951386e-02,  -4.39268015e-03,   8.42299618e-01,\n",
       "        -6.94748447e-01,   1.69935137e+00,  -1.25484469e+00,\n",
       "        -2.05432768e+00,   4.33052141e-01,  -1.94424966e+00,\n",
       "         1.57486332e+00,  -1.89956058e-01,  -7.80596629e-01,\n",
       "         5.82802933e-01,  -9.89477765e-01,  -6.66399812e-01,\n",
       "         1.51552641e+00,  -1.39062004e+00,   1.61512610e+00,\n",
       "        -4.98953061e-01,   6.70738084e-01,  -9.29848488e-01,\n",
       "         5.64371239e-02,  -9.61172813e-01,   1.23505786e+00,\n",
       "         9.42147434e-01,  -5.69448822e-01,   4.39661883e-01,\n",
       "         3.66214068e-01,   1.09668510e+00,   6.55696751e-01,\n",
       "         2.22471452e-01,  -1.90660104e-01,  -7.06443182e-01,\n",
       "        -2.23353758e-01,   5.77598730e-01,   7.11942756e-02,\n",
       "        -4.69154030e-02,   8.29679394e-01,  -5.93946805e-01,\n",
       "         1.41008233e-01,  -1.43100702e+00,  -4.82831525e-01,\n",
       "         5.87750089e-01,   5.90664611e-01,   4.69637818e-01,\n",
       "         2.72746071e-02,   8.63278965e-01,   1.80898716e-01,\n",
       "        -1.60111030e+00,  -5.11302126e-01,   5.49091523e-01,\n",
       "        -6.78358380e-01,   4.21485509e-01,  -8.72036295e-01,\n",
       "        -7.04346267e-01,  -2.11120421e-01,   1.92560874e+00,\n",
       "        -6.87321396e-01,   8.01934548e-01,  -5.14452053e-01,\n",
       "         3.23032558e-01,  -3.47321719e-01,   6.39840558e-01,\n",
       "         1.90187070e+00,  -9.68524973e-01,  -2.22578636e-01,\n",
       "        -1.12146368e+00,   1.07918934e-03,   1.13516725e+00,\n",
       "         3.87115790e-01,   2.81801597e-01,   1.03853931e+00,\n",
       "         1.70030340e+00,   5.24429832e-01,   1.36737357e+00,\n",
       "        -1.25050434e+00,   1.44682603e+00,   7.49587852e-01,\n",
       "         5.78170190e-01,  -1.16704033e+00,  -1.21388926e+00,\n",
       "        -4.85965139e-01,  -5.76218507e-01,  -4.49824064e-01,\n",
       "        -7.71069115e-01,   1.59503735e+00,   6.63642954e-02,\n",
       "        -2.57379151e-01,   2.13367727e+00,   1.00083620e+00,\n",
       "        -1.46495343e+00,  -1.27365480e-01,   9.44229938e-03,\n",
       "         1.08700506e-01,   1.49773595e+00,   7.96030730e-01,\n",
       "         3.67873593e-01,   7.15693322e-01,  -2.85299452e-01,\n",
       "        -1.35577491e+00,  -1.02102094e+00,  -1.07809245e+00,\n",
       "        -2.11512756e+00,  -5.16191760e-01,   1.05297828e+00,\n",
       "         1.41039929e+00,   6.70153215e-01,   7.56916890e-01,\n",
       "        -3.48904322e-01,   6.67525184e-01,   6.01432798e-01,\n",
       "         2.21904358e-01,  -1.45795830e+00,   3.71151913e-01,\n",
       "        -7.78038615e-02,   1.74506110e+00,   6.63968858e-01,\n",
       "         3.62762098e-01,   4.81828367e-01,   2.77285733e-01,\n",
       "        -6.18309263e-01,   1.95097138e-01,  -8.89405622e-01,\n",
       "        -1.69920723e+00,  -5.95669622e-01,  -1.09990953e+00,\n",
       "         7.25426437e-01,   2.07604615e+00,   9.50535304e-01,\n",
       "        -3.72846199e-03,  -8.67962114e-01,   5.88200389e-01,\n",
       "         5.17371381e-01,   2.17099503e-01,   6.57881841e-01,\n",
       "         1.44164361e-02,   3.88505350e-01,   3.99294640e-01,\n",
       "         6.60234942e-01,   8.53462271e-01,   1.66640669e+00,\n",
       "         4.37649590e-01,   1.24675055e+00,   3.90298590e-01,\n",
       "        -8.20840522e-01,   8.12236113e-01,  -4.86042472e-02,\n",
       "        -2.00445423e-01,   4.14106735e-01,  -1.11579504e+00,\n",
       "         4.46796109e-01,  -5.87963769e-01,  -9.68490595e-01,\n",
       "         5.98617032e-02,   5.33109576e-01,   9.08180536e-01,\n",
       "        -1.39008395e+00,  -2.40466617e-02,  -2.62842902e-01,\n",
       "        -9.92775958e-01,  -2.76007325e+00,   5.56343779e-01,\n",
       "        -4.60525948e-01,  -5.91207377e-02,  -7.18631971e-02,\n",
       "         1.87704369e+00,   1.04978767e+00,  -1.64790829e+00,\n",
       "         5.41646084e-01,   1.21516662e+00,   3.09434933e-01,\n",
       "        -7.17204793e-02,   6.21055497e-01,   4.20848657e-01,\n",
       "         1.42861375e+00,  -4.79357510e-01,  -1.21160977e+00,\n",
       "        -4.87963586e-01,  -1.20653815e+00,   1.32648740e+00,\n",
       "         1.39194524e+00,   2.72523254e-01,  -5.00678298e-01,\n",
       "        -1.58098739e-01,   3.42572920e-01,   1.37720243e+00,\n",
       "         3.60363210e-01,   1.12375938e+00,   6.07654510e-01,\n",
       "         8.21153030e-01,   7.11954548e-01,   2.16349293e+00,\n",
       "         6.54201393e-01,   1.53885849e-01,  -3.86938324e-01,\n",
       "        -9.91458237e-01,  -4.67930271e-01,   1.92417386e+00,\n",
       "        -4.12604046e-01,   8.81033482e-01,  -2.49192885e+00,\n",
       "        -5.09923860e-01,  -8.05640071e-02,   1.43928016e+00,\n",
       "        -6.44343305e-01,   7.74091566e-01,   6.82588583e-01,\n",
       "        -2.84831559e-01,  -3.18482296e-01,  -9.27154704e-01,\n",
       "        -3.21796568e-01,  -2.69460429e-01,  -7.22902100e-01,\n",
       "        -3.87769357e-01,   4.00646012e-01,  -6.61423289e-01,\n",
       "         7.71965242e-01,   2.01864159e-01,   1.60228057e-01,\n",
       "         4.38626792e-01,   6.44071842e-01,  -3.50942096e-01,\n",
       "         1.48974522e+00,  -9.45380777e-01,   2.46014109e+00,\n",
       "        -6.21273883e-01,  -1.09214181e+00,  -4.18463096e-01,\n",
       "        -7.99343431e-01,   4.27118017e-01,   1.84321734e-01,\n",
       "         3.99360538e-01,  -1.11141568e+00,  -5.12015770e-01,\n",
       "        -1.31224895e+00,   1.20297993e+00,   2.04827443e+00,\n",
       "         1.56958452e+00,   4.49500098e-01,  -6.84110061e-01,\n",
       "        -2.81012695e-01,   1.29120504e+00,   1.22677815e+00,\n",
       "         9.42161094e-01,   5.16126580e-02,   5.27446224e-01,\n",
       "        -2.33468675e+00,   1.01963209e+00,  -4.37332543e-01,\n",
       "         1.51948304e-01,  -8.38163802e-01,  -1.62910764e+00,\n",
       "         5.94029829e-01,   1.90501030e-01,   1.28338549e-01,\n",
       "        -2.34973760e-02,  -1.13154997e-01,  -3.47642545e-01,\n",
       "         8.36616832e-01,  -2.54325635e-01,   1.04432434e+00,\n",
       "         2.01276470e-01,   1.38689489e+00,  -1.13773212e+00,\n",
       "         8.23325211e-01,  -5.43142000e-01,   1.17841173e-01,\n",
       "         1.52626759e+00,   2.02989109e-01,  -9.43949837e-01,\n",
       "         1.01885329e-01,   6.01897354e-01,   3.63451003e-01,\n",
       "        -2.04503817e-01,   1.46839617e+00,  -9.56640756e-01,\n",
       "         5.33452067e-01,   2.89003719e-01,   1.11549949e+00,\n",
       "         1.49906795e-01,  -1.26482699e+00,  -1.64187490e+00,\n",
       "         1.68202139e+00,   6.43606395e-01,   1.53878383e+00,\n",
       "        -1.57460961e+00,  -3.50264983e-02,   8.93836587e-01,\n",
       "         5.34929133e-02,   1.59571451e-03,  -1.30736989e+00,\n",
       "         5.03267021e-01,  -4.44856894e-01,  -1.60345952e+00,\n",
       "        -2.79992565e-02,   1.31173826e+00,  -1.53719789e+00,\n",
       "         1.61224624e+00,   1.40473930e+00,   1.37205208e-01,\n",
       "         3.89411777e-01,   3.17131089e-01,   2.14424820e+00,\n",
       "        -3.14528374e-01,   4.29997704e-01,   1.09362932e+00,\n",
       "         1.92077010e-01,  -4.97517647e-01,   8.10979210e-01,\n",
       "         4.92367422e-02,   1.64878145e-01,   3.20001520e-01,\n",
       "        -2.13114757e-03,   3.60945524e-01,   7.89103314e-01,\n",
       "         7.49729358e-01,  -5.13506985e-01,   2.12412485e-01,\n",
       "        -5.50764874e-01,   6.14009078e-01,   2.61857978e-01,\n",
       "         2.90690298e-02,  -7.46876572e-01,  -2.11370497e+00,\n",
       "         1.46255744e+00,  -6.76878795e-02,   5.91133431e-01,\n",
       "         2.62059656e-01,  -6.49659417e-01,  -3.13910699e-01,\n",
       "         1.10298332e+00,   1.00277768e+00,  -6.14554434e-01,\n",
       "         4.75333783e-01,   3.72615466e-01,  -5.47894426e-01,\n",
       "         2.00685162e+00,  -5.29721911e-01,   1.02037995e+00,\n",
       "         3.90305148e-01,  -9.68743742e-02,  -8.05626833e-01,\n",
       "         1.32804462e+00,  -8.32531796e-01,   1.97456581e+00,\n",
       "         1.09075370e+00,   2.19006185e-01,   7.03068661e-01,\n",
       "        -3.60786380e-01,   1.22215754e-01,   4.37825632e-01,\n",
       "         1.41960065e+00,   9.22111915e-01,   6.00907567e-02,\n",
       "         3.15177312e+00,  -4.65692317e-01,   1.18339341e+00,\n",
       "         4.52803688e-01,   8.00250822e-01,  -5.97720009e-01,\n",
       "         2.59936404e-01,  -9.43312672e-01,   1.43390166e+00,\n",
       "        -3.13467687e-01,   2.11980908e+00,  -1.25927513e+00,\n",
       "         4.49927300e-01,   1.06377569e+00,  -1.21846846e-01,\n",
       "        -3.88935911e-01,   3.69535359e-01,  -2.47359095e-01,\n",
       "         5.02474691e-01,  -1.07798983e+00,   4.07744099e-01,\n",
       "         2.73913273e+00,   2.07832139e+00,   4.27975023e-02,\n",
       "         7.15668188e-01,  -3.23545359e-03,   5.92744647e-01,\n",
       "        -7.27405892e-01,   6.31755254e-01,   9.48340706e-01,\n",
       "         8.51276814e-03,   1.61333407e-01,  -1.15298533e-01,\n",
       "         5.27345520e-01,   7.49235068e-01,   8.20497681e-01,\n",
       "         1.47371931e-01,  -3.33085553e-01,  -1.02124251e+00,\n",
       "         5.34150895e-01,  -8.59248856e-02,  -5.52584686e-01,\n",
       "         3.20996746e+00,   8.21903795e-01,  -1.99151873e+00,\n",
       "        -2.45741354e-01,   1.86993253e+00,   2.72354531e+00,\n",
       "         2.77091061e-01,  -7.73814308e-01,  -1.02421446e+00,\n",
       "         1.47132972e-01,  -2.11047453e-01,   6.47908171e-01,\n",
       "         7.69365515e-01,   1.25366343e+00,   2.47865305e+00,\n",
       "         1.97613812e-02,   3.93868541e-01,   3.30695456e-01,\n",
       "         1.01004431e+00,   6.07634061e-01,   1.03934457e-01,\n",
       "        -8.14176862e-01,  -1.17390380e+00,   1.83700661e+00,\n",
       "        -7.61571370e-01,  -4.67949482e-02,  -2.23220971e-01,\n",
       "         9.31699409e-01,  -9.82615867e-01,   9.53053557e-01,\n",
       "         1.66248670e+00,   1.46567925e-01,   1.51606922e+00,\n",
       "         1.42304386e+00,   8.84010748e-01,   1.31801897e-01,\n",
       "         8.76150740e-03,   7.75717646e-02,   1.19779016e+00,\n",
       "        -3.85810327e-01,  -1.91805372e-01,  -7.69586072e-01,\n",
       "        -1.21659082e+00,   4.61816770e-01,   7.50826381e-01,\n",
       "        -2.24723391e+00,  -6.04348049e-01,   1.78662224e+00,\n",
       "         1.39882185e+00,   1.32343186e+00,   2.66951556e-01,\n",
       "        -1.03306495e+00,  -2.25025063e+00,  -3.17248090e-01,\n",
       "        -1.41014845e+00,  -4.62429840e-01,   6.87885166e-01,\n",
       "         1.18537476e+00,   6.60994224e-01,   1.07717959e-01,\n",
       "         3.00694228e-01,   1.37774513e+00,   3.96066098e-01,\n",
       "        -1.28449434e+00,   2.57322538e-01,   1.19823147e+00,\n",
       "         1.32365341e+00,  -6.96427844e-01,  -2.06629865e-02,\n",
       "         1.35590176e-01,   6.67814871e-01,  -1.29171938e+00,\n",
       "        -1.05036564e+00,  -2.75992531e-01,  -1.06557081e+00,\n",
       "         1.47890835e+00,  -6.97984639e-01,   4.46541683e-01,\n",
       "         1.14139199e+00,   8.84777494e-02,  -6.18758753e-01,\n",
       "         4.29321735e-02,   2.74431316e+00,  -5.21384395e-01,\n",
       "        -5.36668687e-01,  -5.12499996e-01,  -1.67828552e-01,\n",
       "        -2.54429852e+00,   1.41890490e+00,   1.14095531e+00,\n",
       "         9.13930327e-01,  -9.53999964e-01,   8.00233318e-02,\n",
       "        -5.00859406e-01,  -1.27219161e+00,  -1.89137467e+00,\n",
       "         3.72843090e-01,  -1.10942615e+00,   9.39187223e-01,\n",
       "         2.07416532e-01,  -6.61411252e-02,  -8.52670055e-02,\n",
       "        -2.78905332e-01,  -3.04802951e-01,  -8.40559426e-01,\n",
       "         1.01896976e+00,   1.15791140e-01,   3.16494548e-01,\n",
       "        -4.58779360e-01,   1.00542368e+00,  -6.80973127e-01,\n",
       "        -1.22689173e+00,  -1.58464995e+00,  -4.19351182e-01,\n",
       "         1.21046038e+00,   1.07094701e+00,   3.04151297e-01,\n",
       "        -7.53192126e-01,   3.10630945e-01,   2.06616111e+00,\n",
       "        -8.99651926e-01,  -9.08903109e-02,   2.31194986e-01,\n",
       "         1.21993721e+00,  -1.36889883e+00,  -1.53706058e+00,\n",
       "         3.49048866e-01,  -1.64260527e+00,  -1.57729804e-01,\n",
       "         1.68328718e+00,  -4.29432002e-01,  -1.11599616e+00,\n",
       "        -8.30135392e-01,  -8.28760872e-02,   7.52121190e-02,\n",
       "        -1.99490589e-01,   2.93123045e-01,   4.94267511e-01,\n",
       "        -2.09900953e+00,   8.18601241e-01,  -2.63928701e-01,\n",
       "        -6.71814380e-01,   9.75806259e-01,  -2.78560957e-01,\n",
       "        -1.97458304e+00,   2.52162842e-01,   1.08088324e-02,\n",
       "         1.25178252e-01,  -8.60195314e-01,  -1.00310912e+00,\n",
       "        -1.43436915e-01,   1.43866305e+00,  -1.66547381e+00,\n",
       "         8.06463630e-02,  -1.28581226e+00,   1.39424281e+00,\n",
       "        -9.27839163e-02,  -2.06310127e-01,  -8.18503466e-01,\n",
       "         1.37518419e+00,   3.26851044e-01,   5.54826634e-01,\n",
       "         5.65392543e-02,  -9.53260710e-01,  -1.51588903e+00,\n",
       "        -1.38208996e-02,   6.84990999e-01,   1.93663633e+00,\n",
       "         1.76650451e+00,   5.02664201e-01,   1.30645193e+00,\n",
       "        -1.71107704e+00,   4.43777406e-01,  -7.68315011e-01,\n",
       "        -1.23959195e-01,   5.79761505e-01,  -1.16871716e+00,\n",
       "         2.08013581e+00,  -7.32586780e-01,  -1.76349165e+00,\n",
       "         2.76313500e-01,  -1.11719741e+00,  -1.87531411e-01,\n",
       "         1.89276321e+00,  -1.93126206e-01,   1.42710342e+00,\n",
       "         8.81031726e-01,  -1.03500951e+00,   1.93964947e+00,\n",
       "         4.01730373e-01,   1.70522712e+00,  -7.15045550e-01,\n",
       "         1.17997885e+00,   1.07730454e-01,  -2.21291175e+00,\n",
       "         2.56424402e-01,   1.54413966e-01,  -1.12322445e+00,\n",
       "         4.70251788e-02,   1.50346740e+00,   1.40318913e+00,\n",
       "        -4.49135539e-01,   1.59388515e-01,  -5.48375383e-01,\n",
       "        -1.63477667e+00,   5.06905326e-01,  -5.23761323e-01,\n",
       "        -1.46957769e+00,   2.29159788e+00,  -1.36899605e+00,\n",
       "        -2.56185140e-01,  -2.69702593e-01,   1.25937230e+00,\n",
       "         6.57000126e-02,  -1.01704500e-01,  -1.68834453e-01,\n",
       "        -4.64952250e-01,  -8.46555948e-01,  -1.35793688e+00,\n",
       "        -3.64558452e-01,   5.25134750e-01,  -7.08011721e-01,\n",
       "         1.14881849e-01,  -7.67123804e-02,  -1.01850111e+00,\n",
       "        -4.79361202e-01,  -2.33153800e-01,  -1.05384643e+00,\n",
       "         8.46900594e-01,  -8.30617217e-02,  -5.34988332e-01,\n",
       "        -2.39936215e-02,   1.17695481e+00,  -5.94965337e-01,\n",
       "        -1.16591935e+00,  -1.68079957e-01,  -1.93579534e+00,\n",
       "        -3.29060907e-01,  -9.67830885e-01,  -4.96450687e-01,\n",
       "        -3.44511903e-01,  -6.39165544e-01,  -5.55939007e-01,\n",
       "         1.11513511e+00,  -4.82203346e-01,   9.59073755e-02,\n",
       "         2.05196891e+00,   1.25396464e+00,   8.90423447e-01,\n",
       "         2.38088007e-01,   3.50265631e-01,  -5.10999394e-03,\n",
       "         1.03045785e+00,  -7.09106006e-01,  -1.06046132e-01,\n",
       "        -3.73265327e-01,  -1.33467728e-01,   6.41914004e-01,\n",
       "        -1.18274671e+00,   8.04694812e-01,   7.95689140e-01,\n",
       "        -1.70680119e-01,  -2.34401135e-02,  -8.01877216e-01,\n",
       "        -8.76577293e-01,   3.73877644e-01,   1.07813000e+00,\n",
       "         1.02375020e+00,  -1.03968569e+00,  -2.25180307e+00,\n",
       "         1.74625419e+00,   7.46569943e-01,   1.31886997e-02,\n",
       "        -7.34194547e-01,  -7.46366314e-01,  -1.53064351e-01,\n",
       "         1.18262349e+00,   9.50700533e-01,  -1.39240027e+00,\n",
       "        -1.44734661e+00,  -1.06165364e+00,  -9.83648415e-01,\n",
       "         1.17153356e+00,   3.98347415e-01,   1.77903895e-02,\n",
       "         7.85351147e-01,  -8.37212791e-01,   2.27264736e+00,\n",
       "        -8.10402312e-01,  -1.94359636e+00,  -1.25338799e-01,\n",
       "         4.66460699e-01])"
      ]
     },
     "execution_count": 22,
     "metadata": {},
     "output_type": "execute_result"
    }
   ],
   "source": [
    "np.random.randn(1000)"
   ]
  },
  {
   "cell_type": "code",
   "execution_count": 33,
   "metadata": {
    "collapsed": false
   },
   "outputs": [
    {
     "data": {
      "text/plain": [
       "2000-01-01    0.122111\n",
       "2000-01-02    0.573248\n",
       "2000-01-03    0.772312\n",
       "2000-01-04    0.976089\n",
       "2000-01-05    0.606796\n",
       "2000-01-06    0.148841\n",
       "2000-01-07    0.919685\n",
       "2000-01-08    0.707483\n",
       "2000-01-09    0.940801\n",
       "2000-01-10    0.496371\n",
       "Freq: D, dtype: float64"
      ]
     },
     "execution_count": 33,
     "metadata": {},
     "output_type": "execute_result"
    }
   ],
   "source": [
    "ts = Series(rand(10), index=date_range('1/1/2000', periods=10))\n",
    "ts"
   ]
  },
  {
   "cell_type": "code",
   "execution_count": 34,
   "metadata": {
    "collapsed": false
   },
   "outputs": [
    {
     "data": {
      "text/plain": [
       "2000-01-01    0.122111\n",
       "2000-01-02    0.695359\n",
       "2000-01-03    1.467671\n",
       "2000-01-04    2.443761\n",
       "2000-01-05    3.050557\n",
       "2000-01-06    3.199398\n",
       "2000-01-07    4.119083\n",
       "2000-01-08    4.826566\n",
       "2000-01-09    5.767367\n",
       "2000-01-10    6.263739\n",
       "Freq: D, dtype: float64"
      ]
     },
     "execution_count": 34,
     "metadata": {},
     "output_type": "execute_result"
    }
   ],
   "source": [
    "ts.cumsum()"
   ]
  },
  {
   "cell_type": "code",
   "execution_count": 35,
   "metadata": {
    "collapsed": false
   },
   "outputs": [
    {
     "data": {
      "text/plain": [
       "<matplotlib.axes._subplots.AxesSubplot at 0x7f63ea993c88>"
      ]
     },
     "execution_count": 35,
     "metadata": {},
     "output_type": "execute_result"
    },
    {
     "data": {
      "image/png": "[encoded data removed]",
      "text/plain": [
       "<matplotlib.figure.Figure at 0x7f63f09bde10>"
      ]
     },
     "metadata": {},
     "output_type": "display_data"
    }
   ],
   "source": [
    "ts.plot()"
   ]
  },
  {
   "cell_type": "code",
   "execution_count": null,
   "metadata": {
    "collapsed": true
   },
   "outputs": [],
   "source": []
  }
 ],
 "metadata": {
  "kernelspec": {
   "display_name": "Python 3",
   "language": "python",
   "name": "python3"
  },
  "language_info": {
   "codemirror_mode": {
    "name": "ipython",
    "version": 3
   },
   "file_extension": ".py",
   "mimetype": "text/x-python",
   "name": "python",
   "nbconvert_exporter": "python",
   "pygments_lexer": "ipython3",
   "version": "3.5.1"
  },
  "widgets": {
   "state": {},
   "version": "1.1.2"
  }
 },
 "nbformat": 4,
 "nbformat_minor": 0
}
